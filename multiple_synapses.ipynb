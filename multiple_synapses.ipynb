{
 "cells": [
  {
   "cell_type": "code",
   "execution_count": 1,
   "metadata": {},
   "outputs": [
    {
     "name": "stdout",
     "output_type": "stream",
     "text": [
      "\n",
      "1.0892800392921756e-07\n",
      "0.0024200000000000003\n",
      "\n",
      "\n"
     ]
    }
   ],
   "source": [
    "import pde\n",
    "from pde import FieldCollection, PDEBase, UnitGrid\n",
    "import numpy as np\n",
    "from PhysicalConstants2D import *\n",
    "print(\"\")"
   ]
  },
  {
   "cell_type": "code",
   "execution_count": 2,
   "metadata": {},
   "outputs": [
    {
     "name": "stdout",
     "output_type": "stream",
     "text": [
      "3.048874499257105\n",
      "0.09271815433268715\n"
     ]
    }
   ],
   "source": [
    "init_c_N_total = A_N*math.pi*math.pow(r,2)/(A_R_N * math.pow(r,2))\n",
    "init_c_R_total = A_R*math.pi*math.pow(r,2)/(A_R_N * math.pow(r,2))\n",
    "print(init_c_N_total)\n",
    "print(init_c_R_total)"
   ]
  },
  {
   "cell_type": "code",
   "execution_count": 3,
   "metadata": {},
   "outputs": [],
   "source": [
    "#2d grid:\n",
    "\n",
    "grid_radius = 30 # grid_width, grid_height = 2*grid_radius\n",
    "cells_per_unit = 2\n",
    "cells_width = cells_per_unit*2*grid_radius\n",
    "cells_height = cells_per_unit*2*grid_radius\n",
    "\n",
    "grid = pde.CartesianGrid([[-grid_radius,grid_radius],[-grid_radius,grid_radius]], [cells_width,cells_height])\n",
    "\n",
    "### Initial field for each concentration\n",
    "\n",
    "# We use circles for the release site and the reaction site. The circles have the same radius and center.\n",
    "release_radius = 5\n",
    "react_radius = 5\n",
    "\n",
    "# center on x axis: (y is zero)\n",
    "first_synapse_center = 10\n",
    "second_synapse_center = -10\n",
    "#grid.plot()"
   ]
  },
  {
   "cell_type": "code",
   "execution_count": 7,
   "metadata": {},
   "outputs": [
    {
     "name": "stdout",
     "output_type": "stream",
     "text": [
      "initial c_N per cell:  0.0011258768461067596\n",
      "initial c_R per cell:  3.423860942861416e-05\n",
      "\n"
     ]
    }
   ],
   "source": [
    "# Create initial fields for each concentration. We assign the correct values to the points inside the release/react circles\n",
    "\n",
    "\n",
    "\n",
    "# c_N:\n",
    "temp_field_c_N = pde.ScalarField.from_expression(grid, f\"(x-{second_synapse_center})**2 + y**2 <= {release_radius}**2\", label=\"c_N_field_temp\")\n",
    "\n",
    "field_c_N = pde.ScalarField.from_expression(grid, f\"(x-{first_synapse_center})**2 + y**2 <= {release_radius}**2\", label=\"c_N_field\")\n",
    "points_in_release_circle = np.unique(field_c_N.data, return_counts=True)[1][1]\n",
    "init_c_N_per_grid = init_c_N_total/points_in_release_circle\n",
    "print(\"initial c_N per cell per synapse: \", init_c_N_per_grid)\n",
    "field_c_N.data = field_c_N.data+temp_field_c_N.data\n",
    "field_c_N.data = field_c_N.data * init_c_N_per_grid\n",
    "\n",
    "# c_R:\n",
    "temp_field_c_R = pde.ScalarField.from_expression(grid, f\"(x-{second_synapse_center})**2 + y**2 <= {react_radius}**2\", label=\"c_R_field_temp\")\n",
    "field_c_R = pde.ScalarField.from_expression(grid, f\"(x-{first_synapse_center})**2 + y**2 <= {react_radius}**2\", label=\"c_R_field\")\n",
    "points_in_react_circle = np.unique(field_c_R.data, return_counts=True)[1][1]\n",
    "init_c_R_per_grid = init_c_R_total/points_in_react_circle\n",
    "print(\"initial c_R per cell: \", init_c_R_per_grid)\n",
    "field_c_R.data = field_c_R.data + temp_field_c_R.data\n",
    "field_c_R_ones = np.copy(field_c_R.data)\n",
    "field_c_R.data = field_c_R.data * init_c_R_per_grid\n",
    "\n",
    "# c_RN:\n",
    "field_c_RN = pde.ScalarField(grid, label=\"c_RN_field\")\n",
    "\n",
    "# c_T:\n",
    "field_c_T = pde.ScalarField(grid, label=\"c_T_field\")\n",
    "field_c_T.data =field_c_T.data-field_c_R_ones\n",
    "transporter_consentration = init_c_R_per_grid\n",
    "field_c_T.data = field_c_T.data * transporter_consentration\n",
    "\n",
    "# c_TN:\n",
    "field_c_TN = pde.ScalarField(grid, label=\"c_TN_field\")\n",
    "\n",
    "# c_N_inact:\n",
    "field_c_N_inact = pde.ScalarField(grid, label=\"c_N_inact_field\")\n",
    "\n",
    "\n",
    "# velocity field: \n",
    "vel_field = pde.VectorField(grid=grid, label='velocity_field', data=1)\n",
    "\n",
    "print(\"\")\n",
    "# print(np.unique(field_c_N.data, return_counts=True))\n",
    "# print(np.unique(field_c_R.data, return_counts=True))\n",
    "# print(np.unique(field_c_RN.data, return_counts=True))\n",
    "print(np.unique(field_c_T.data, return_counts=True))\n",
    "# print(np.unique(field_c_TN.data, return_counts=True))\n",
    "# print(np.unique(field_c_N_inact.data, return_counts=True))\n",
    "# print(\"velocity field: \", vel_field.data)\n",
    "# print(np.shape(vel_field.data))\n",
    "\n",
    "# We collect all the fields\n",
    "state = FieldCollection([field_c_N, field_c_R, field_c_RN, field_c_T, field_c_TN, field_c_N_inact, vel_field])\n",
    "\n",
    "# We define all the dimensionless constants\n",
    "epsilon_1 = 1 #3.6309e-5\n",
    "eta_1 = 0.5 #0.80666\n",
    "epsilon_2 = 1\n",
    "eta_2 = 0.5\n",
    "eta_3 = 0.5\n",
    "gamma = 1"
   ]
  },
  {
   "cell_type": "code",
   "execution_count": 10,
   "metadata": {},
   "outputs": [],
   "source": [
    "eq = pde.PDE({\n",
    "    \"c_N\" :      f\"laplace(c_N) -{gamma}*dot(vel_field, gradient(c_N)) -{epsilon_1}*c_R*c_N-{epsilon_2}*c_T*c_N +{eta_1}*c_RN+{eta_2}*c_TN\",\n",
    "    \"c_R\" :      f\"-{epsilon_1}*c_R*c_N +{eta_1}*c_RN\",\n",
    "    \"c_RN\" :     f\"{epsilon_1}*c_R*c_N -{eta_1}*c_RN\",\n",
    "    \"c_T\":       f\"-{epsilon_2}*c_T*c_N+{eta_2}*c_TN+{eta_3}*c_TN\",\n",
    "    \"c_TN\":      f\"{epsilon_2}*c_T*c_N-{eta_2}*c_TN-{eta_3}*c_TN\",\n",
    "    \"c_N_inact\": f\"{eta_3}*c_TN\",\n",
    "    \"vel_field\": f\"0\",\n",
    "    })\n",
    "\n",
    "storage = pde.MemoryStorage()"
   ]
  },
  {
   "cell_type": "code",
   "execution_count": 11,
   "metadata": {},
   "outputs": [
    {
     "name": "stderr",
     "output_type": "stream",
     "text": []
    }
   ],
   "source": [
    "result = eq.solve(state, t_range=2, dt=1e-6, tracker=[\"progress\", storage.tracker(1e-3)])"
   ]
  },
  {
   "cell_type": "code",
   "execution_count": 100,
   "metadata": {},
   "outputs": [
    {
     "name": "stderr",
     "output_type": "stream",
     "text": [
      "100%|██████████| 3001/3001 [14:06<00:00,  3.55it/s]\n"
     ]
    }
   ],
   "source": [
    "pde.movie(storage, filename=\"./Animations/transportation_1.mp4\")"
   ]
  },
  {
   "cell_type": "code",
   "execution_count": null,
   "metadata": {},
   "outputs": [],
   "source": []
  }
 ],
 "metadata": {
  "kernelspec": {
   "display_name": "Python 3.10.8 64-bit (microsoft store)",
   "language": "python",
   "name": "python3"
  },
  "language_info": {
   "codemirror_mode": {
    "name": "ipython",
    "version": 3
   },
   "file_extension": ".py",
   "mimetype": "text/x-python",
   "name": "python",
   "nbconvert_exporter": "python",
   "pygments_lexer": "ipython3",
   "version": "3.10.8"
  },
  "orig_nbformat": 4,
  "vscode": {
   "interpreter": {
    "hash": "5dcff011584d56f021e905469e8be973e7f8c14dd33d7dbedb64170103f4ac39"
   }
  }
 },
 "nbformat": 4,
 "nbformat_minor": 2
}
